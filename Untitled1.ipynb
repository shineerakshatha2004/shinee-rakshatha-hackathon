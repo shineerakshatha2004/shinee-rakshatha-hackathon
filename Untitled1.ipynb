{
  "cells": [
    {
      "cell_type": "markdown",
      "metadata": {
        "id": "uCOTDJIhDEj9"
      },
      "source": [
        "# load data and libraries\n"
      ]
    },
    {
      "cell_type": "code",
      "execution_count": null,
      "metadata": {
        "id": "b6qqvxCrDvI-"
      },
      "outputs": [],
      "source": [
        "import pandas as pd\n",
        "import matplotlib.pyplot as plt\n",
        "from sklearn.preprocessing import LabelEncoder\n",
        "from sklearn.model_selection import train_test_split\n",
        "from sklearn.ensemble import RandomForestClassifier\n",
        "from sklearn.metrics import accuracy_score\n",
        "\n",
        "# Load the dataset\n",
        "df = pd.read_csv('/content/sample_data/C&T train dataset (1).csv', usecols=['sno','acc_info','duration_month','credit_history','purpose','savings_acc','employment_st','personal_status','gurantors','resident_since','property_type','installment_type','housing_type','credits_no','job_type','liables','Group_no'])"
      ]
    },
    {
      "cell_type": "markdown",
      "metadata": {
        "id": "s5fRfV1rEfn0"
      },
      "source": [
        "# Data preparation"
      ]
    },
    {
      "cell_type": "code",
      "execution_count": null,
      "metadata": {
        "colab": {
          "background_save": true
        },
        "id": "L6JZMDyYEq__",
        "outputId": "f7300198-146c-4e60-d7cb-254092afc457"
      },
      "outputs": [
        {
          "name": "stdout",
          "output_type": "stream",
          "text": [
            "     sno  acc_info  duration_month  credit_history  purpose  savings_acc  \\\n",
            "0      1         0               6               4        4            4   \n",
            "1      2         1              48               2        4            0   \n",
            "2      3         3              12               4        7            0   \n",
            "3      4         0              42               2        3            0   \n",
            "4      5         0              24               3        0            0   \n",
            "..   ...       ...             ...             ...      ...          ...   \n",
            "795  796         3               9               2        3            1   \n",
            "796  797         0              18               2        1            4   \n",
            "797  798         3              12               4        3            0   \n",
            "798  799         3              24               3        0            4   \n",
            "799  800         1               9               2        0            4   \n",
            "\n",
            "     employment_st  personal_status  gurantors  resident_since  property_type  \\\n",
            "0                4                2          0               4              0   \n",
            "1                2                1          0               2              0   \n",
            "2                3                2          0               3              0   \n",
            "3                3                2          2               4              1   \n",
            "4                2                2          0               4              3   \n",
            "..             ...              ...        ...             ...            ...   \n",
            "795              1                1          0               4              1   \n",
            "796              4                2          0               4              1   \n",
            "797              1                1          0               4              1   \n",
            "798              4                3          0               4              2   \n",
            "799              1                2          0               2              0   \n",
            "\n",
            "     installment_type  housing_type  credits_no  job_type  liables  Group_no  \n",
            "0                   2             1           2         2        1         3  \n",
            "1                   2             1           1         2        1         1  \n",
            "2                   2             1           1         1        2         2  \n",
            "3                   2             2           1         2        2         1  \n",
            "4                   2             2           2         2        2         1  \n",
            "..                ...           ...         ...       ...      ...       ...  \n",
            "795                 2             0           1         2        1         2  \n",
            "796                 2             2           1         2        2         1  \n",
            "797                 2             0           2         1        1         3  \n",
            "798                 2             1           2         2        1         3  \n",
            "799                 2             1           1         0        1         2  \n",
            "\n",
            "[800 rows x 17 columns]\n"
          ]
        }
      ],
      "source": [
        "# Convert categorical variables to numerical using LabelEncoder\n",
        "label_encoder = LabelEncoder()\n",
        "for col in df.columns:\n",
        "    if df[col].dtype == 'object':\n",
        "        df[col] = label_encoder.fit_transform(df[col])\n",
        "print(df)\n",
        "# Split the dataset into features (X) and target variable (y)\n",
        "X = df.drop(\"Group_no\", axis=\"columns\")\n",
        "y = df['Group_no']"
      ]
    },
    {
      "cell_type": "markdown",
      "metadata": {
        "id": "gigA8A8pFNP-"
      },
      "source": [
        "# encoding"
      ]
    },
    {
      "cell_type": "code",
      "execution_count": null,
      "metadata": {
        "id": "J1xVpDNYFUdg"
      },
      "outputs": [],
      "source": []
    }
  ],
  "metadata": {
    "colab": {
      "provenance": []
    },
    "kernelspec": {
      "display_name": "Python 3",
      "name": "python3"
    },
    "language_info": {
      "name": "python"
    }
  },
  "nbformat": 4,
  "nbformat_minor": 0
}